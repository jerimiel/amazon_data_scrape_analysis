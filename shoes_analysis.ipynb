{
 "cells": [
  {
   "cell_type": "code",
   "execution_count": 1,
   "id": "5316c28d-3c07-4050-bc82-c7957ce71e86",
   "metadata": {},
   "outputs": [],
   "source": [
    "#importing libraries\n",
    "import pandas as pd\n",
    "import numpy as np\n",
    "import seaborn as sns\n",
    "import matplotlib.pyplot as plt"
   ]
  },
  {
   "cell_type": "code",
   "execution_count": 2,
   "id": "9c06bc93-a90b-4076-b7d6-9f294a2b639e",
   "metadata": {},
   "outputs": [],
   "source": [
    "df = pd.read_excel(\"branded-amazon-shoes-results.xls\")#read in the data"
   ]
  },
  {
   "cell_type": "code",
   "execution_count": 3,
   "id": "0cc3d536-c614-4f6a-bfcb-73e589a2ce1b",
   "metadata": {},
   "outputs": [
    {
     "data": {
      "text/html": [
       "<div>\n",
       "<style scoped>\n",
       "    .dataframe tbody tr th:only-of-type {\n",
       "        vertical-align: middle;\n",
       "    }\n",
       "\n",
       "    .dataframe tbody tr th {\n",
       "        vertical-align: top;\n",
       "    }\n",
       "\n",
       "    .dataframe thead th {\n",
       "        text-align: right;\n",
       "    }\n",
       "</style>\n",
       "<table border=\"1\" class=\"dataframe\">\n",
       "  <thead>\n",
       "    <tr style=\"text-align: right;\">\n",
       "      <th></th>\n",
       "      <th>item_name</th>\n",
       "      <th>price</th>\n",
       "      <th>real_price</th>\n",
       "      <th>rating</th>\n",
       "      <th>reviews</th>\n",
       "      <th>brand_name</th>\n",
       "    </tr>\n",
       "  </thead>\n",
       "  <tbody>\n",
       "    <tr>\n",
       "      <th>0</th>\n",
       "      <td>adidas Women's Cloudfoam Pure Running Shoe</td>\n",
       "      <td>Not Found</td>\n",
       "      <td>Not Found</td>\n",
       "      <td>4.6 out of 5 stars</td>\n",
       "      <td>70,519</td>\n",
       "      <td>adidas</td>\n",
       "    </tr>\n",
       "    <tr>\n",
       "      <th>1</th>\n",
       "      <td>adidas Men's Lite Racer Adapt 4.0 Running Shoe</td>\n",
       "      <td>$44.50</td>\n",
       "      <td>$70.00</td>\n",
       "      <td>4.5 out of 5 stars</td>\n",
       "      <td>15,314</td>\n",
       "      <td>adidas</td>\n",
       "    </tr>\n",
       "    <tr>\n",
       "      <th>2</th>\n",
       "      <td>adidas Unisex-Child Lite Racer Adapt 5.0 Runni...</td>\n",
       "      <td>$44.95</td>\n",
       "      <td>$60.00</td>\n",
       "      <td>4.5 out of 5 stars</td>\n",
       "      <td>483</td>\n",
       "      <td>adidas</td>\n",
       "    </tr>\n",
       "    <tr>\n",
       "      <th>3</th>\n",
       "      <td>adidas Men's Racer Tr21 Running Shoe</td>\n",
       "      <td>$46.95</td>\n",
       "      <td>$75.00</td>\n",
       "      <td>4.5 out of 5 stars</td>\n",
       "      <td>7,694</td>\n",
       "      <td>adidas</td>\n",
       "    </tr>\n",
       "    <tr>\n",
       "      <th>4</th>\n",
       "      <td>adidas Men's Terrex Ax4 Sneaker</td>\n",
       "      <td>Not Found</td>\n",
       "      <td>Not Found</td>\n",
       "      <td>4.3 out of 5 stars</td>\n",
       "      <td>2,148</td>\n",
       "      <td>adidas</td>\n",
       "    </tr>\n",
       "  </tbody>\n",
       "</table>\n",
       "</div>"
      ],
      "text/plain": [
       "                                           item_name      price real_price  \\\n",
       "0         adidas Women's Cloudfoam Pure Running Shoe  Not Found  Not Found   \n",
       "1     adidas Men's Lite Racer Adapt 4.0 Running Shoe     $44.50     $70.00   \n",
       "2  adidas Unisex-Child Lite Racer Adapt 5.0 Runni...     $44.95     $60.00   \n",
       "3               adidas Men's Racer Tr21 Running Shoe     $46.95     $75.00   \n",
       "4                    adidas Men's Terrex Ax4 Sneaker  Not Found  Not Found   \n",
       "\n",
       "               rating reviews brand_name  \n",
       "0  4.6 out of 5 stars  70,519     adidas  \n",
       "1  4.5 out of 5 stars  15,314     adidas  \n",
       "2  4.5 out of 5 stars     483     adidas  \n",
       "3  4.5 out of 5 stars   7,694     adidas  \n",
       "4  4.3 out of 5 stars   2,148     adidas  "
      ]
     },
     "execution_count": 3,
     "metadata": {},
     "output_type": "execute_result"
    }
   ],
   "source": [
    "df.head()#visualize first five rows"
   ]
  },
  {
   "cell_type": "code",
   "execution_count": 4,
   "id": "0530e9f7-58fc-4fdf-98ed-be067c1f7f92",
   "metadata": {},
   "outputs": [
    {
     "data": {
      "text/plain": [
       "(3984, 6)"
      ]
     },
     "execution_count": 4,
     "metadata": {},
     "output_type": "execute_result"
    }
   ],
   "source": [
    "df.shape"
   ]
  },
  {
   "cell_type": "markdown",
   "id": "f0b9c67e-f805-49bf-b946-dc0d3465a5d1",
   "metadata": {},
   "source": [
    "> 3984 entries and 6 features"
   ]
  },
  {
   "cell_type": "code",
   "execution_count": 5,
   "id": "96ddda5b-6e98-49d6-978c-ef3c77c36ea8",
   "metadata": {},
   "outputs": [
    {
     "name": "stdout",
     "output_type": "stream",
     "text": [
      "item_name  :  0\n",
      "price  :  300\n",
      "real_price  :  1630\n",
      "rating  :  82\n",
      "reviews  :  82\n",
      "brand_name  :  0\n"
     ]
    }
   ],
   "source": [
    "for i in df.columns:\n",
    "    print(i, \" : \" ,len(df[df[i] == \"Not Found\"]))\n",
    "    #Not Found is used to represent missing values. \n",
    "    #Searching for number of missing values"
   ]
  },
  {
   "cell_type": "markdown",
   "id": "66c99e26-bc4e-4e57-bdb5-5a5ec61ded58",
   "metadata": {},
   "source": [
    "> real_price missing over half of it's total values"
   ]
  },
  {
   "cell_type": "code",
   "execution_count": 6,
   "id": "e0255ff4-1a1a-493c-adc3-6972550b4816",
   "metadata": {},
   "outputs": [
    {
     "name": "stdout",
     "output_type": "stream",
     "text": [
      "<class 'pandas.core.frame.DataFrame'>\n",
      "RangeIndex: 3984 entries, 0 to 3983\n",
      "Data columns (total 6 columns):\n",
      " #   Column      Non-Null Count  Dtype \n",
      "---  ------      --------------  ----- \n",
      " 0   item_name   3984 non-null   object\n",
      " 1   price       3984 non-null   object\n",
      " 2   real_price  3984 non-null   object\n",
      " 3   rating      3984 non-null   object\n",
      " 4   reviews     3984 non-null   object\n",
      " 5   brand_name  3984 non-null   object\n",
      "dtypes: object(6)\n",
      "memory usage: 186.9+ KB\n"
     ]
    }
   ],
   "source": [
    "df.info()"
   ]
  },
  {
   "cell_type": "markdown",
   "id": "853bd247-dd4b-4031-b6e0-89539436041c",
   "metadata": {},
   "source": [
    "> Wrong datatypes of object can be seen for columns that should be floats"
   ]
  },
  {
   "cell_type": "markdown",
   "id": "788fa625-0258-488d-8174-76f2d158c36a",
   "metadata": {
    "tags": []
   },
   "source": [
    "#### Problems\n",
    "* drop real_price column because <i>almost half missing</i>\n",
    "* remove $, \",\"\n",
    "* replace 'Not Found' with null type\n",
    "* extract rating \n",
    "* convert datatypes"
   ]
  },
  {
   "cell_type": "markdown",
   "id": "9ba59221-b77e-4830-8fce-8e48cbf0156b",
   "metadata": {},
   "source": [
    "### clean up"
   ]
  },
  {
   "cell_type": "code",
   "execution_count": 7,
   "id": "6b4e4b63-9ac9-43b3-a69f-210f08d85639",
   "metadata": {},
   "outputs": [],
   "source": [
    "df_clean = df.copy()#Make a copy to avoid making changes to original"
   ]
  },
  {
   "cell_type": "code",
   "execution_count": 8,
   "id": "a2b9ab70-d31a-4479-a75e-cbdf255bc03b",
   "metadata": {},
   "outputs": [
    {
     "data": {
      "text/html": [
       "<div>\n",
       "<style scoped>\n",
       "    .dataframe tbody tr th:only-of-type {\n",
       "        vertical-align: middle;\n",
       "    }\n",
       "\n",
       "    .dataframe tbody tr th {\n",
       "        vertical-align: top;\n",
       "    }\n",
       "\n",
       "    .dataframe thead th {\n",
       "        text-align: right;\n",
       "    }\n",
       "</style>\n",
       "<table border=\"1\" class=\"dataframe\">\n",
       "  <thead>\n",
       "    <tr style=\"text-align: right;\">\n",
       "      <th></th>\n",
       "      <th>item_name</th>\n",
       "      <th>price</th>\n",
       "      <th>real_price</th>\n",
       "      <th>rating</th>\n",
       "      <th>reviews</th>\n",
       "      <th>brand_name</th>\n",
       "    </tr>\n",
       "  </thead>\n",
       "  <tbody>\n",
       "  </tbody>\n",
       "</table>\n",
       "</div>"
      ],
      "text/plain": [
       "Empty DataFrame\n",
       "Columns: [item_name, price, real_price, rating, reviews, brand_name]\n",
       "Index: []"
      ]
     },
     "execution_count": 8,
     "metadata": {},
     "output_type": "execute_result"
    }
   ],
   "source": [
    "#find places where price is missing and real price is populated\n",
    "df_clean[(df_clean.price == \"Not Found\") & (df_clean.price != \"Not Found\")].reset_index(drop=True)"
   ]
  },
  {
   "cell_type": "markdown",
   "id": "1d500641-b26f-4fdf-973e-fe7ee6e83f44",
   "metadata": {},
   "source": [
    "> None, so just drop real_price"
   ]
  },
  {
   "cell_type": "code",
   "execution_count": 9,
   "id": "cd438946-66bd-41b1-a696-7ff0ac9e076b",
   "metadata": {},
   "outputs": [],
   "source": [
    "#try to drop rows where real price and price = Not Found\n",
    "df_clean = df_clean[(df.price != \"Not Found\") & (df_clean.price != \"Not Found\")].reset_index(drop=True)"
   ]
  },
  {
   "cell_type": "code",
   "execution_count": 10,
   "id": "3482fd4d-d8c2-46a3-9f9e-29e2ba322bda",
   "metadata": {},
   "outputs": [
    {
     "data": {
      "text/html": [
       "<div>\n",
       "<style scoped>\n",
       "    .dataframe tbody tr th:only-of-type {\n",
       "        vertical-align: middle;\n",
       "    }\n",
       "\n",
       "    .dataframe tbody tr th {\n",
       "        vertical-align: top;\n",
       "    }\n",
       "\n",
       "    .dataframe thead th {\n",
       "        text-align: right;\n",
       "    }\n",
       "</style>\n",
       "<table border=\"1\" class=\"dataframe\">\n",
       "  <thead>\n",
       "    <tr style=\"text-align: right;\">\n",
       "      <th></th>\n",
       "      <th>item_name</th>\n",
       "      <th>price</th>\n",
       "      <th>rating</th>\n",
       "      <th>reviews</th>\n",
       "      <th>brand_name</th>\n",
       "    </tr>\n",
       "  </thead>\n",
       "  <tbody>\n",
       "    <tr>\n",
       "      <th>0</th>\n",
       "      <td>adidas Men's Lite Racer Adapt 4.0 Running Shoe</td>\n",
       "      <td>$44.50</td>\n",
       "      <td>4.5 out of 5 stars</td>\n",
       "      <td>15,314</td>\n",
       "      <td>adidas</td>\n",
       "    </tr>\n",
       "    <tr>\n",
       "      <th>1</th>\n",
       "      <td>adidas Unisex-Child Lite Racer Adapt 5.0 Runni...</td>\n",
       "      <td>$44.95</td>\n",
       "      <td>4.5 out of 5 stars</td>\n",
       "      <td>483</td>\n",
       "      <td>adidas</td>\n",
       "    </tr>\n",
       "    <tr>\n",
       "      <th>2</th>\n",
       "      <td>adidas Men's Racer Tr21 Running Shoe</td>\n",
       "      <td>$46.95</td>\n",
       "      <td>4.5 out of 5 stars</td>\n",
       "      <td>7,694</td>\n",
       "      <td>adidas</td>\n",
       "    </tr>\n",
       "    <tr>\n",
       "      <th>3</th>\n",
       "      <td>adidas Men's Gamecourt 2 Tennis Shoe</td>\n",
       "      <td>$56.99</td>\n",
       "      <td>4.5 out of 5 stars</td>\n",
       "      <td>971</td>\n",
       "      <td>adidas</td>\n",
       "    </tr>\n",
       "    <tr>\n",
       "      <th>4</th>\n",
       "      <td>adidas Men's Tech Response 2.0 Golf Shoe</td>\n",
       "      <td>$49.99</td>\n",
       "      <td>4.6 out of 5 stars</td>\n",
       "      <td>10,007</td>\n",
       "      <td>adidas</td>\n",
       "    </tr>\n",
       "  </tbody>\n",
       "</table>\n",
       "</div>"
      ],
      "text/plain": [
       "                                           item_name   price  \\\n",
       "0     adidas Men's Lite Racer Adapt 4.0 Running Shoe  $44.50   \n",
       "1  adidas Unisex-Child Lite Racer Adapt 5.0 Runni...  $44.95   \n",
       "2               adidas Men's Racer Tr21 Running Shoe  $46.95   \n",
       "3               adidas Men's Gamecourt 2 Tennis Shoe  $56.99   \n",
       "4           adidas Men's Tech Response 2.0 Golf Shoe  $49.99   \n",
       "\n",
       "               rating reviews brand_name  \n",
       "0  4.5 out of 5 stars  15,314     adidas  \n",
       "1  4.5 out of 5 stars     483     adidas  \n",
       "2  4.5 out of 5 stars   7,694     adidas  \n",
       "3  4.5 out of 5 stars     971     adidas  \n",
       "4  4.6 out of 5 stars  10,007     adidas  "
      ]
     },
     "execution_count": 10,
     "metadata": {},
     "output_type": "execute_result"
    }
   ],
   "source": [
    "df_clean.drop(\"real_price\", axis=1, inplace=True)#dropping real price due to too many missing values\n",
    "df_clean.head()"
   ]
  },
  {
   "cell_type": "code",
   "execution_count": 11,
   "id": "a46026c5-a450-4bed-8820-8e91ae549c91",
   "metadata": {},
   "outputs": [
    {
     "data": {
      "text/plain": [
       "0    44.50\n",
       "1    44.95\n",
       "2    46.95\n",
       "3    56.99\n",
       "4    49.99\n",
       "Name: price, dtype: float64"
      ]
     },
     "execution_count": 11,
     "metadata": {},
     "output_type": "execute_result"
    }
   ],
   "source": [
    "#remove $ from price while converting to float type\n",
    "df_clean[\"price\"] = df_clean[\"price\"].apply(lambda x: float(x[1:]) if x[0]==\"$\" else np.nan)\n",
    "df_clean[\"price\"].head()"
   ]
  },
  {
   "cell_type": "code",
   "execution_count": 12,
   "id": "62935b73-0d7f-489f-a437-ffa12d1156f8",
   "metadata": {},
   "outputs": [
    {
     "data": {
      "text/plain": [
       "0"
      ]
     },
     "execution_count": 12,
     "metadata": {},
     "output_type": "execute_result"
    }
   ],
   "source": [
    "len(df_clean[df_clean.price.isnull()==True])# Places where pice column is missing data"
   ]
  },
  {
   "cell_type": "code",
   "execution_count": 13,
   "id": "77424e7e-639a-4b3b-927e-6afbbbf5261f",
   "metadata": {},
   "outputs": [
    {
     "data": {
      "text/html": [
       "<div>\n",
       "<style scoped>\n",
       "    .dataframe tbody tr th:only-of-type {\n",
       "        vertical-align: middle;\n",
       "    }\n",
       "\n",
       "    .dataframe tbody tr th {\n",
       "        vertical-align: top;\n",
       "    }\n",
       "\n",
       "    .dataframe thead th {\n",
       "        text-align: right;\n",
       "    }\n",
       "</style>\n",
       "<table border=\"1\" class=\"dataframe\">\n",
       "  <thead>\n",
       "    <tr style=\"text-align: right;\">\n",
       "      <th></th>\n",
       "      <th>item_name</th>\n",
       "      <th>price</th>\n",
       "      <th>rating</th>\n",
       "      <th>reviews</th>\n",
       "      <th>brand_name</th>\n",
       "    </tr>\n",
       "  </thead>\n",
       "  <tbody>\n",
       "    <tr>\n",
       "      <th>0</th>\n",
       "      <td>adidas Men's Lite Racer Adapt 4.0 Running Shoe</td>\n",
       "      <td>44.50</td>\n",
       "      <td>4.5 out of 5 stars</td>\n",
       "      <td>15314.0</td>\n",
       "      <td>adidas</td>\n",
       "    </tr>\n",
       "    <tr>\n",
       "      <th>1</th>\n",
       "      <td>adidas Unisex-Child Lite Racer Adapt 5.0 Runni...</td>\n",
       "      <td>44.95</td>\n",
       "      <td>4.5 out of 5 stars</td>\n",
       "      <td>483.0</td>\n",
       "      <td>adidas</td>\n",
       "    </tr>\n",
       "    <tr>\n",
       "      <th>2</th>\n",
       "      <td>adidas Men's Racer Tr21 Running Shoe</td>\n",
       "      <td>46.95</td>\n",
       "      <td>4.5 out of 5 stars</td>\n",
       "      <td>7694.0</td>\n",
       "      <td>adidas</td>\n",
       "    </tr>\n",
       "    <tr>\n",
       "      <th>3</th>\n",
       "      <td>adidas Men's Gamecourt 2 Tennis Shoe</td>\n",
       "      <td>56.99</td>\n",
       "      <td>4.5 out of 5 stars</td>\n",
       "      <td>971.0</td>\n",
       "      <td>adidas</td>\n",
       "    </tr>\n",
       "    <tr>\n",
       "      <th>4</th>\n",
       "      <td>adidas Men's Tech Response 2.0 Golf Shoe</td>\n",
       "      <td>49.99</td>\n",
       "      <td>4.6 out of 5 stars</td>\n",
       "      <td>10007.0</td>\n",
       "      <td>adidas</td>\n",
       "    </tr>\n",
       "  </tbody>\n",
       "</table>\n",
       "</div>"
      ],
      "text/plain": [
       "                                           item_name  price  \\\n",
       "0     adidas Men's Lite Racer Adapt 4.0 Running Shoe  44.50   \n",
       "1  adidas Unisex-Child Lite Racer Adapt 5.0 Runni...  44.95   \n",
       "2               adidas Men's Racer Tr21 Running Shoe  46.95   \n",
       "3               adidas Men's Gamecourt 2 Tennis Shoe  56.99   \n",
       "4           adidas Men's Tech Response 2.0 Golf Shoe  49.99   \n",
       "\n",
       "               rating  reviews brand_name  \n",
       "0  4.5 out of 5 stars  15314.0     adidas  \n",
       "1  4.5 out of 5 stars    483.0     adidas  \n",
       "2  4.5 out of 5 stars   7694.0     adidas  \n",
       "3  4.5 out of 5 stars    971.0     adidas  \n",
       "4  4.6 out of 5 stars  10007.0     adidas  "
      ]
     },
     "execution_count": 13,
     "metadata": {},
     "output_type": "execute_result"
    }
   ],
   "source": [
    "#remove commas from reviews to allow conversion to int\n",
    "df_clean[\"reviews\"] = df_clean[\"reviews\"].apply(lambda review: int(review.replace(\",\",\"\")) if review != \"Not Found\" else np.nan)\n",
    "df_clean.head()"
   ]
  },
  {
   "cell_type": "code",
   "execution_count": 14,
   "id": "1b65540d-8147-4c36-8b8e-e897964ca168",
   "metadata": {},
   "outputs": [
    {
     "data": {
      "text/plain": [
       "78"
      ]
     },
     "execution_count": 14,
     "metadata": {},
     "output_type": "execute_result"
    }
   ],
   "source": [
    "len(df_clean[df_clean.reviews.isnull()==True])#places where reviews column is missing data"
   ]
  },
  {
   "cell_type": "code",
   "execution_count": 15,
   "id": "86def508-832d-45a6-9c63-5dd3bf75ea1f",
   "metadata": {},
   "outputs": [],
   "source": [
    "#extract rating and convert to float\n",
    "df_clean[\"rating\"] = df_clean[\"rating\"].apply(lambda rate: float(rate.split(\" \")[0]) if rate != \"Not Found\" else np.nan)"
   ]
  },
  {
   "cell_type": "code",
   "execution_count": 16,
   "id": "863d903a-c81f-4d8f-86e5-f1f6aa659b26",
   "metadata": {},
   "outputs": [
    {
     "data": {
      "text/html": [
       "<div>\n",
       "<style scoped>\n",
       "    .dataframe tbody tr th:only-of-type {\n",
       "        vertical-align: middle;\n",
       "    }\n",
       "\n",
       "    .dataframe tbody tr th {\n",
       "        vertical-align: top;\n",
       "    }\n",
       "\n",
       "    .dataframe thead th {\n",
       "        text-align: right;\n",
       "    }\n",
       "</style>\n",
       "<table border=\"1\" class=\"dataframe\">\n",
       "  <thead>\n",
       "    <tr style=\"text-align: right;\">\n",
       "      <th></th>\n",
       "      <th>item_name</th>\n",
       "      <th>price</th>\n",
       "      <th>rating</th>\n",
       "      <th>reviews</th>\n",
       "      <th>brand_name</th>\n",
       "    </tr>\n",
       "  </thead>\n",
       "  <tbody>\n",
       "    <tr>\n",
       "      <th>0</th>\n",
       "      <td>adidas Men's Lite Racer Adapt 4.0 Running Shoe</td>\n",
       "      <td>44.50</td>\n",
       "      <td>4.5</td>\n",
       "      <td>15314.0</td>\n",
       "      <td>adidas</td>\n",
       "    </tr>\n",
       "    <tr>\n",
       "      <th>1</th>\n",
       "      <td>adidas Unisex-Child Lite Racer Adapt 5.0 Runni...</td>\n",
       "      <td>44.95</td>\n",
       "      <td>4.5</td>\n",
       "      <td>483.0</td>\n",
       "      <td>adidas</td>\n",
       "    </tr>\n",
       "    <tr>\n",
       "      <th>2</th>\n",
       "      <td>adidas Men's Racer Tr21 Running Shoe</td>\n",
       "      <td>46.95</td>\n",
       "      <td>4.5</td>\n",
       "      <td>7694.0</td>\n",
       "      <td>adidas</td>\n",
       "    </tr>\n",
       "    <tr>\n",
       "      <th>3</th>\n",
       "      <td>adidas Men's Gamecourt 2 Tennis Shoe</td>\n",
       "      <td>56.99</td>\n",
       "      <td>4.5</td>\n",
       "      <td>971.0</td>\n",
       "      <td>adidas</td>\n",
       "    </tr>\n",
       "    <tr>\n",
       "      <th>4</th>\n",
       "      <td>adidas Men's Tech Response 2.0 Golf Shoe</td>\n",
       "      <td>49.99</td>\n",
       "      <td>4.6</td>\n",
       "      <td>10007.0</td>\n",
       "      <td>adidas</td>\n",
       "    </tr>\n",
       "  </tbody>\n",
       "</table>\n",
       "</div>"
      ],
      "text/plain": [
       "                                           item_name  price  rating  reviews  \\\n",
       "0     adidas Men's Lite Racer Adapt 4.0 Running Shoe  44.50     4.5  15314.0   \n",
       "1  adidas Unisex-Child Lite Racer Adapt 5.0 Runni...  44.95     4.5    483.0   \n",
       "2               adidas Men's Racer Tr21 Running Shoe  46.95     4.5   7694.0   \n",
       "3               adidas Men's Gamecourt 2 Tennis Shoe  56.99     4.5    971.0   \n",
       "4           adidas Men's Tech Response 2.0 Golf Shoe  49.99     4.6  10007.0   \n",
       "\n",
       "  brand_name  \n",
       "0     adidas  \n",
       "1     adidas  \n",
       "2     adidas  \n",
       "3     adidas  \n",
       "4     adidas  "
      ]
     },
     "execution_count": 16,
     "metadata": {},
     "output_type": "execute_result"
    }
   ],
   "source": [
    "df_clean.head()"
   ]
  },
  {
   "cell_type": "code",
   "execution_count": 17,
   "id": "aa77d1b2-3c85-46a7-bd60-7d3b85c37194",
   "metadata": {},
   "outputs": [
    {
     "data": {
      "text/plain": [
       "78"
      ]
     },
     "execution_count": 17,
     "metadata": {},
     "output_type": "execute_result"
    }
   ],
   "source": [
    "len(df_clean[df_clean.rating.isnull()==True])"
   ]
  },
  {
   "cell_type": "code",
   "execution_count": 18,
   "id": "2eeeb4a4-1a0a-4f5e-bcf3-5a29a020cf12",
   "metadata": {},
   "outputs": [
    {
     "name": "stdout",
     "output_type": "stream",
     "text": [
      "<class 'pandas.core.frame.DataFrame'>\n",
      "RangeIndex: 3684 entries, 0 to 3683\n",
      "Data columns (total 5 columns):\n",
      " #   Column      Non-Null Count  Dtype  \n",
      "---  ------      --------------  -----  \n",
      " 0   item_name   3684 non-null   object \n",
      " 1   price       3684 non-null   float64\n",
      " 2   rating      3606 non-null   float64\n",
      " 3   reviews     3606 non-null   float64\n",
      " 4   brand_name  3684 non-null   object \n",
      "dtypes: float64(3), object(2)\n",
      "memory usage: 144.0+ KB\n"
     ]
    }
   ],
   "source": [
    "df_clean.info()"
   ]
  },
  {
   "cell_type": "code",
   "execution_count": 19,
   "id": "ced92b03-9b89-4f1b-a050-e121e3b52cc2",
   "metadata": {},
   "outputs": [],
   "source": [
    "df_clean.dropna(inplace = True)#drop missing values"
   ]
  },
  {
   "cell_type": "code",
   "execution_count": 20,
   "id": "63fb2494-4f4e-4c73-8938-ab3ad0440dea",
   "metadata": {},
   "outputs": [],
   "source": [
    "df_clean['reviews'] = df_clean.reviews.astype(int)"
   ]
  },
  {
   "cell_type": "code",
   "execution_count": 21,
   "id": "b0b4707a-154a-431b-a5f1-183e5dea902a",
   "metadata": {},
   "outputs": [
    {
     "data": {
      "text/html": [
       "<div>\n",
       "<style scoped>\n",
       "    .dataframe tbody tr th:only-of-type {\n",
       "        vertical-align: middle;\n",
       "    }\n",
       "\n",
       "    .dataframe tbody tr th {\n",
       "        vertical-align: top;\n",
       "    }\n",
       "\n",
       "    .dataframe thead th {\n",
       "        text-align: right;\n",
       "    }\n",
       "</style>\n",
       "<table border=\"1\" class=\"dataframe\">\n",
       "  <thead>\n",
       "    <tr style=\"text-align: right;\">\n",
       "      <th></th>\n",
       "      <th>item_name</th>\n",
       "      <th>price</th>\n",
       "      <th>rating</th>\n",
       "      <th>reviews</th>\n",
       "      <th>brand_name</th>\n",
       "    </tr>\n",
       "  </thead>\n",
       "  <tbody>\n",
       "    <tr>\n",
       "      <th>0</th>\n",
       "      <td>adidas Men's Lite Racer Adapt 4.0 Running Shoe</td>\n",
       "      <td>44.50</td>\n",
       "      <td>4.5</td>\n",
       "      <td>15314</td>\n",
       "      <td>adidas</td>\n",
       "    </tr>\n",
       "    <tr>\n",
       "      <th>1</th>\n",
       "      <td>adidas Unisex-Child Lite Racer Adapt 5.0 Runni...</td>\n",
       "      <td>44.95</td>\n",
       "      <td>4.5</td>\n",
       "      <td>483</td>\n",
       "      <td>adidas</td>\n",
       "    </tr>\n",
       "    <tr>\n",
       "      <th>2</th>\n",
       "      <td>adidas Men's Racer Tr21 Running Shoe</td>\n",
       "      <td>46.95</td>\n",
       "      <td>4.5</td>\n",
       "      <td>7694</td>\n",
       "      <td>adidas</td>\n",
       "    </tr>\n",
       "    <tr>\n",
       "      <th>3</th>\n",
       "      <td>adidas Men's Gamecourt 2 Tennis Shoe</td>\n",
       "      <td>56.99</td>\n",
       "      <td>4.5</td>\n",
       "      <td>971</td>\n",
       "      <td>adidas</td>\n",
       "    </tr>\n",
       "    <tr>\n",
       "      <th>4</th>\n",
       "      <td>adidas Men's Tech Response 2.0 Golf Shoe</td>\n",
       "      <td>49.99</td>\n",
       "      <td>4.6</td>\n",
       "      <td>10007</td>\n",
       "      <td>adidas</td>\n",
       "    </tr>\n",
       "    <tr>\n",
       "      <th>...</th>\n",
       "      <td>...</td>\n",
       "      <td>...</td>\n",
       "      <td>...</td>\n",
       "      <td>...</td>\n",
       "      <td>...</td>\n",
       "    </tr>\n",
       "    <tr>\n",
       "      <th>3679</th>\n",
       "      <td>Salomon Women's Alphacross 4 Gore-tex Trail Ru...</td>\n",
       "      <td>81.97</td>\n",
       "      <td>3.0</td>\n",
       "      <td>2</td>\n",
       "      <td>Salomon</td>\n",
       "    </tr>\n",
       "    <tr>\n",
       "      <th>3680</th>\n",
       "      <td>Salomon Men's Quest Rove Gore-tex Trail Runnin...</td>\n",
       "      <td>150.59</td>\n",
       "      <td>4.6</td>\n",
       "      <td>21</td>\n",
       "      <td>Salomon</td>\n",
       "    </tr>\n",
       "    <tr>\n",
       "      <th>3681</th>\n",
       "      <td>Salomon Men's Supercross 3 Trail Running Shoes</td>\n",
       "      <td>108.90</td>\n",
       "      <td>4.6</td>\n",
       "      <td>135</td>\n",
       "      <td>Salomon</td>\n",
       "    </tr>\n",
       "    <tr>\n",
       "      <th>3682</th>\n",
       "      <td>Salomon XA PRO 3D Trail Running Shoes for Men</td>\n",
       "      <td>149.95</td>\n",
       "      <td>4.5</td>\n",
       "      <td>335</td>\n",
       "      <td>Salomon</td>\n",
       "    </tr>\n",
       "    <tr>\n",
       "      <th>3683</th>\n",
       "      <td>Salomon Women's Predict Soc 2 Running Shoes</td>\n",
       "      <td>97.50</td>\n",
       "      <td>4.2</td>\n",
       "      <td>74</td>\n",
       "      <td>Salomon</td>\n",
       "    </tr>\n",
       "  </tbody>\n",
       "</table>\n",
       "<p>3606 rows × 5 columns</p>\n",
       "</div>"
      ],
      "text/plain": [
       "                                              item_name   price  rating  \\\n",
       "0        adidas Men's Lite Racer Adapt 4.0 Running Shoe   44.50     4.5   \n",
       "1     adidas Unisex-Child Lite Racer Adapt 5.0 Runni...   44.95     4.5   \n",
       "2                  adidas Men's Racer Tr21 Running Shoe   46.95     4.5   \n",
       "3                  adidas Men's Gamecourt 2 Tennis Shoe   56.99     4.5   \n",
       "4              adidas Men's Tech Response 2.0 Golf Shoe   49.99     4.6   \n",
       "...                                                 ...     ...     ...   \n",
       "3679  Salomon Women's Alphacross 4 Gore-tex Trail Ru...   81.97     3.0   \n",
       "3680  Salomon Men's Quest Rove Gore-tex Trail Runnin...  150.59     4.6   \n",
       "3681     Salomon Men's Supercross 3 Trail Running Shoes  108.90     4.6   \n",
       "3682      Salomon XA PRO 3D Trail Running Shoes for Men  149.95     4.5   \n",
       "3683        Salomon Women's Predict Soc 2 Running Shoes   97.50     4.2   \n",
       "\n",
       "      reviews brand_name  \n",
       "0       15314     adidas  \n",
       "1         483     adidas  \n",
       "2        7694     adidas  \n",
       "3         971     adidas  \n",
       "4       10007     adidas  \n",
       "...       ...        ...  \n",
       "3679        2    Salomon  \n",
       "3680       21    Salomon  \n",
       "3681      135    Salomon  \n",
       "3682      335    Salomon  \n",
       "3683       74    Salomon  \n",
       "\n",
       "[3606 rows x 5 columns]"
      ]
     },
     "execution_count": 21,
     "metadata": {},
     "output_type": "execute_result"
    }
   ],
   "source": [
    "df_clean"
   ]
  },
  {
   "cell_type": "code",
   "execution_count": 22,
   "id": "f16b4763-fbf2-4c19-bea2-5bcc00e2f1ba",
   "metadata": {},
   "outputs": [],
   "source": [
    "#calculate weighted reviews because reviews and rating alone will give innacurate analysis\n",
    "df_clean[\"weighted_review\"] = (df_clean[\"rating\"] * df_clean[\"reviews\"]) / np.min((df_clean[\"rating\"] * df_clean[\"reviews\"]))"
   ]
  },
  {
   "cell_type": "code",
   "execution_count": 23,
   "id": "f6f24c62-c2b4-42b3-9c65-4d0847666329",
   "metadata": {},
   "outputs": [
    {
     "data": {
      "text/plain": [
       "0       68913.0\n",
       "1        2173.5\n",
       "2       34623.0\n",
       "3        4369.5\n",
       "4       46032.2\n",
       "         ...   \n",
       "3679        6.0\n",
       "3680       96.6\n",
       "3681      621.0\n",
       "3682     1507.5\n",
       "3683      310.8\n",
       "Name: weighted_review, Length: 3606, dtype: float64"
      ]
     },
     "execution_count": 23,
     "metadata": {},
     "output_type": "execute_result"
    }
   ],
   "source": [
    "df_clean[\"weighted_review\"]"
   ]
  },
  {
   "cell_type": "code",
   "execution_count": 24,
   "id": "429c5d53-de98-451f-b504-6efcfde7c1a5",
   "metadata": {},
   "outputs": [
    {
     "data": {
      "text/html": [
       "<div>\n",
       "<style scoped>\n",
       "    .dataframe tbody tr th:only-of-type {\n",
       "        vertical-align: middle;\n",
       "    }\n",
       "\n",
       "    .dataframe tbody tr th {\n",
       "        vertical-align: top;\n",
       "    }\n",
       "\n",
       "    .dataframe thead th {\n",
       "        text-align: right;\n",
       "    }\n",
       "</style>\n",
       "<table border=\"1\" class=\"dataframe\">\n",
       "  <thead>\n",
       "    <tr style=\"text-align: right;\">\n",
       "      <th></th>\n",
       "      <th>item_name</th>\n",
       "      <th>price</th>\n",
       "      <th>rating</th>\n",
       "      <th>reviews</th>\n",
       "      <th>brand_name</th>\n",
       "      <th>weighted_review</th>\n",
       "    </tr>\n",
       "  </thead>\n",
       "  <tbody>\n",
       "    <tr>\n",
       "      <th>2017</th>\n",
       "      <td>Crocs Unisex-Adult Classic Clogs</td>\n",
       "      <td>26.65</td>\n",
       "      <td>4.8</td>\n",
       "      <td>532063</td>\n",
       "      <td>Crocs</td>\n",
       "      <td>2553902.4</td>\n",
       "    </tr>\n",
       "    <tr>\n",
       "      <th>2019</th>\n",
       "      <td>Crocs Unisex-Child Classic Clog</td>\n",
       "      <td>34.99</td>\n",
       "      <td>4.8</td>\n",
       "      <td>118999</td>\n",
       "      <td>Crocs</td>\n",
       "      <td>571195.2</td>\n",
       "    </tr>\n",
       "    <tr>\n",
       "      <th>416</th>\n",
       "      <td>Hey Dude Women's Wendy L</td>\n",
       "      <td>30.64</td>\n",
       "      <td>4.7</td>\n",
       "      <td>111484</td>\n",
       "      <td>Hey Dude</td>\n",
       "      <td>523974.8</td>\n",
       "    </tr>\n",
       "    <tr>\n",
       "      <th>917</th>\n",
       "      <td>Saucony Women's Performance Heel Tab Athletic ...</td>\n",
       "      <td>12.61</td>\n",
       "      <td>4.8</td>\n",
       "      <td>100659</td>\n",
       "      <td>Saucony</td>\n",
       "      <td>483163.2</td>\n",
       "    </tr>\n",
       "    <tr>\n",
       "      <th>2012</th>\n",
       "      <td>Crocs unisex-adult Classic Lined Clog</td>\n",
       "      <td>32.66</td>\n",
       "      <td>4.8</td>\n",
       "      <td>92661</td>\n",
       "      <td>Crocs</td>\n",
       "      <td>444772.8</td>\n",
       "    </tr>\n",
       "    <tr>\n",
       "      <th>...</th>\n",
       "      <td>...</td>\n",
       "      <td>...</td>\n",
       "      <td>...</td>\n",
       "      <td>...</td>\n",
       "      <td>...</td>\n",
       "      <td>...</td>\n",
       "    </tr>\n",
       "    <tr>\n",
       "      <th>1508</th>\n",
       "      <td>Columbia Men's Bahama Vent Loco Iii Boat Shoe</td>\n",
       "      <td>74.95</td>\n",
       "      <td>3.0</td>\n",
       "      <td>1</td>\n",
       "      <td>Columbia</td>\n",
       "      <td>3.0</td>\n",
       "    </tr>\n",
       "    <tr>\n",
       "      <th>3311</th>\n",
       "      <td>Capezio Women's Cassie Jr. Character Shoe, Bla...</td>\n",
       "      <td>38.90</td>\n",
       "      <td>3.0</td>\n",
       "      <td>1</td>\n",
       "      <td>Capezio</td>\n",
       "      <td>3.0</td>\n",
       "    </tr>\n",
       "    <tr>\n",
       "      <th>3105</th>\n",
       "      <td>Dockers Footwear Men's Oxford, Black, 7</td>\n",
       "      <td>50.61</td>\n",
       "      <td>1.0</td>\n",
       "      <td>1</td>\n",
       "      <td>Dockers</td>\n",
       "      <td>1.0</td>\n",
       "    </tr>\n",
       "    <tr>\n",
       "      <th>2130</th>\n",
       "      <td>K-Swiss Women's Speed Trac Tennis Shoe</td>\n",
       "      <td>88.00</td>\n",
       "      <td>1.0</td>\n",
       "      <td>1</td>\n",
       "      <td>K-Swiss</td>\n",
       "      <td>1.0</td>\n",
       "    </tr>\n",
       "    <tr>\n",
       "      <th>3677</th>\n",
       "      <td>Salomon Women's Speedcross 5 Gore-tex Trail Ru...</td>\n",
       "      <td>149.95</td>\n",
       "      <td>1.0</td>\n",
       "      <td>1</td>\n",
       "      <td>Salomon</td>\n",
       "      <td>1.0</td>\n",
       "    </tr>\n",
       "  </tbody>\n",
       "</table>\n",
       "<p>3606 rows × 6 columns</p>\n",
       "</div>"
      ],
      "text/plain": [
       "                                              item_name   price  rating  \\\n",
       "2017                   Crocs Unisex-Adult Classic Clogs   26.65     4.8   \n",
       "2019                    Crocs Unisex-Child Classic Clog   34.99     4.8   \n",
       "416                            Hey Dude Women's Wendy L   30.64     4.7   \n",
       "917   Saucony Women's Performance Heel Tab Athletic ...   12.61     4.8   \n",
       "2012              Crocs unisex-adult Classic Lined Clog   32.66     4.8   \n",
       "...                                                 ...     ...     ...   \n",
       "1508      Columbia Men's Bahama Vent Loco Iii Boat Shoe   74.95     3.0   \n",
       "3311  Capezio Women's Cassie Jr. Character Shoe, Bla...   38.90     3.0   \n",
       "3105            Dockers Footwear Men's Oxford, Black, 7   50.61     1.0   \n",
       "2130             K-Swiss Women's Speed Trac Tennis Shoe   88.00     1.0   \n",
       "3677  Salomon Women's Speedcross 5 Gore-tex Trail Ru...  149.95     1.0   \n",
       "\n",
       "      reviews brand_name  weighted_review  \n",
       "2017   532063      Crocs        2553902.4  \n",
       "2019   118999      Crocs         571195.2  \n",
       "416    111484   Hey Dude         523974.8  \n",
       "917    100659    Saucony         483163.2  \n",
       "2012    92661      Crocs         444772.8  \n",
       "...       ...        ...              ...  \n",
       "1508        1   Columbia              3.0  \n",
       "3311        1    Capezio              3.0  \n",
       "3105        1    Dockers              1.0  \n",
       "2130        1    K-Swiss              1.0  \n",
       "3677        1    Salomon              1.0  \n",
       "\n",
       "[3606 rows x 6 columns]"
      ]
     },
     "execution_count": 24,
     "metadata": {},
     "output_type": "execute_result"
    }
   ],
   "source": [
    "df_clean.sort_values(by=\"weighted_review\", ascending=False)\n",
    "#check weighted reviews\n",
    "#looks good from cursory glance"
   ]
  },
  {
   "cell_type": "code",
   "execution_count": 25,
   "id": "1cb1bfeb-447e-4111-8ce4-6f9f77c4c334",
   "metadata": {},
   "outputs": [],
   "source": [
    "df_clean.drop_duplicates(inplace = True)#remove duplicate data"
   ]
  },
  {
   "cell_type": "code",
   "execution_count": 26,
   "id": "e3fa3adc-adb2-4055-9d66-1eae9ec204ee",
   "metadata": {},
   "outputs": [],
   "source": [
    "df_clean.reset_index(drop = True, inplace=True)"
   ]
  },
  {
   "cell_type": "code",
   "execution_count": 27,
   "id": "eaf5280c-42c2-4754-b55a-06004fa17e7f",
   "metadata": {},
   "outputs": [
    {
     "data": {
      "text/html": [
       "<div>\n",
       "<style scoped>\n",
       "    .dataframe tbody tr th:only-of-type {\n",
       "        vertical-align: middle;\n",
       "    }\n",
       "\n",
       "    .dataframe tbody tr th {\n",
       "        vertical-align: top;\n",
       "    }\n",
       "\n",
       "    .dataframe thead th {\n",
       "        text-align: right;\n",
       "    }\n",
       "</style>\n",
       "<table border=\"1\" class=\"dataframe\">\n",
       "  <thead>\n",
       "    <tr style=\"text-align: right;\">\n",
       "      <th></th>\n",
       "      <th>item_name</th>\n",
       "      <th>price</th>\n",
       "      <th>rating</th>\n",
       "      <th>reviews</th>\n",
       "      <th>brand_name</th>\n",
       "      <th>weighted_review</th>\n",
       "    </tr>\n",
       "  </thead>\n",
       "  <tbody>\n",
       "    <tr>\n",
       "      <th>0</th>\n",
       "      <td>adidas Men's Lite Racer Adapt 4.0 Running Shoe</td>\n",
       "      <td>44.50</td>\n",
       "      <td>4.5</td>\n",
       "      <td>15314</td>\n",
       "      <td>adidas</td>\n",
       "      <td>68913.0</td>\n",
       "    </tr>\n",
       "    <tr>\n",
       "      <th>1</th>\n",
       "      <td>adidas Unisex-Child Lite Racer Adapt 5.0 Runni...</td>\n",
       "      <td>44.95</td>\n",
       "      <td>4.5</td>\n",
       "      <td>483</td>\n",
       "      <td>adidas</td>\n",
       "      <td>2173.5</td>\n",
       "    </tr>\n",
       "    <tr>\n",
       "      <th>2</th>\n",
       "      <td>adidas Men's Racer Tr21 Running Shoe</td>\n",
       "      <td>46.95</td>\n",
       "      <td>4.5</td>\n",
       "      <td>7694</td>\n",
       "      <td>adidas</td>\n",
       "      <td>34623.0</td>\n",
       "    </tr>\n",
       "    <tr>\n",
       "      <th>3</th>\n",
       "      <td>adidas Men's Gamecourt 2 Tennis Shoe</td>\n",
       "      <td>56.99</td>\n",
       "      <td>4.5</td>\n",
       "      <td>971</td>\n",
       "      <td>adidas</td>\n",
       "      <td>4369.5</td>\n",
       "    </tr>\n",
       "    <tr>\n",
       "      <th>4</th>\n",
       "      <td>adidas Men's Tech Response 2.0 Golf Shoe</td>\n",
       "      <td>49.99</td>\n",
       "      <td>4.6</td>\n",
       "      <td>10007</td>\n",
       "      <td>adidas</td>\n",
       "      <td>46032.2</td>\n",
       "    </tr>\n",
       "    <tr>\n",
       "      <th>...</th>\n",
       "      <td>...</td>\n",
       "      <td>...</td>\n",
       "      <td>...</td>\n",
       "      <td>...</td>\n",
       "      <td>...</td>\n",
       "      <td>...</td>\n",
       "    </tr>\n",
       "    <tr>\n",
       "      <th>3599</th>\n",
       "      <td>Salomon Women's Alphacross 4 Gore-tex Trail Ru...</td>\n",
       "      <td>81.97</td>\n",
       "      <td>3.0</td>\n",
       "      <td>2</td>\n",
       "      <td>Salomon</td>\n",
       "      <td>6.0</td>\n",
       "    </tr>\n",
       "    <tr>\n",
       "      <th>3600</th>\n",
       "      <td>Salomon Men's Quest Rove Gore-tex Trail Runnin...</td>\n",
       "      <td>150.59</td>\n",
       "      <td>4.6</td>\n",
       "      <td>21</td>\n",
       "      <td>Salomon</td>\n",
       "      <td>96.6</td>\n",
       "    </tr>\n",
       "    <tr>\n",
       "      <th>3601</th>\n",
       "      <td>Salomon Men's Supercross 3 Trail Running Shoes</td>\n",
       "      <td>108.90</td>\n",
       "      <td>4.6</td>\n",
       "      <td>135</td>\n",
       "      <td>Salomon</td>\n",
       "      <td>621.0</td>\n",
       "    </tr>\n",
       "    <tr>\n",
       "      <th>3602</th>\n",
       "      <td>Salomon XA PRO 3D Trail Running Shoes for Men</td>\n",
       "      <td>149.95</td>\n",
       "      <td>4.5</td>\n",
       "      <td>335</td>\n",
       "      <td>Salomon</td>\n",
       "      <td>1507.5</td>\n",
       "    </tr>\n",
       "    <tr>\n",
       "      <th>3603</th>\n",
       "      <td>Salomon Women's Predict Soc 2 Running Shoes</td>\n",
       "      <td>97.50</td>\n",
       "      <td>4.2</td>\n",
       "      <td>74</td>\n",
       "      <td>Salomon</td>\n",
       "      <td>310.8</td>\n",
       "    </tr>\n",
       "  </tbody>\n",
       "</table>\n",
       "<p>3604 rows × 6 columns</p>\n",
       "</div>"
      ],
      "text/plain": [
       "                                              item_name   price  rating  \\\n",
       "0        adidas Men's Lite Racer Adapt 4.0 Running Shoe   44.50     4.5   \n",
       "1     adidas Unisex-Child Lite Racer Adapt 5.0 Runni...   44.95     4.5   \n",
       "2                  adidas Men's Racer Tr21 Running Shoe   46.95     4.5   \n",
       "3                  adidas Men's Gamecourt 2 Tennis Shoe   56.99     4.5   \n",
       "4              adidas Men's Tech Response 2.0 Golf Shoe   49.99     4.6   \n",
       "...                                                 ...     ...     ...   \n",
       "3599  Salomon Women's Alphacross 4 Gore-tex Trail Ru...   81.97     3.0   \n",
       "3600  Salomon Men's Quest Rove Gore-tex Trail Runnin...  150.59     4.6   \n",
       "3601     Salomon Men's Supercross 3 Trail Running Shoes  108.90     4.6   \n",
       "3602      Salomon XA PRO 3D Trail Running Shoes for Men  149.95     4.5   \n",
       "3603        Salomon Women's Predict Soc 2 Running Shoes   97.50     4.2   \n",
       "\n",
       "      reviews brand_name  weighted_review  \n",
       "0       15314     adidas          68913.0  \n",
       "1         483     adidas           2173.5  \n",
       "2        7694     adidas          34623.0  \n",
       "3         971     adidas           4369.5  \n",
       "4       10007     adidas          46032.2  \n",
       "...       ...        ...              ...  \n",
       "3599        2    Salomon              6.0  \n",
       "3600       21    Salomon             96.6  \n",
       "3601      135    Salomon            621.0  \n",
       "3602      335    Salomon           1507.5  \n",
       "3603       74    Salomon            310.8  \n",
       "\n",
       "[3604 rows x 6 columns]"
      ]
     },
     "execution_count": 27,
     "metadata": {},
     "output_type": "execute_result"
    }
   ],
   "source": [
    "df_clean"
   ]
  },
  {
   "cell_type": "code",
   "execution_count": 28,
   "id": "616059a4-95d6-4668-ac06-0a4fdd3c99c8",
   "metadata": {},
   "outputs": [],
   "source": [
    "df_sorted = df_clean.sort_values(by = \"weighted_review\", axis=0, ascending = False).reset_index(drop=True)"
   ]
  },
  {
   "cell_type": "code",
   "execution_count": 29,
   "id": "dde69106-5d01-47bd-bf01-0ce6d2e56bf2",
   "metadata": {},
   "outputs": [
    {
     "data": {
      "text/html": [
       "<div>\n",
       "<style scoped>\n",
       "    .dataframe tbody tr th:only-of-type {\n",
       "        vertical-align: middle;\n",
       "    }\n",
       "\n",
       "    .dataframe tbody tr th {\n",
       "        vertical-align: top;\n",
       "    }\n",
       "\n",
       "    .dataframe thead th {\n",
       "        text-align: right;\n",
       "    }\n",
       "</style>\n",
       "<table border=\"1\" class=\"dataframe\">\n",
       "  <thead>\n",
       "    <tr style=\"text-align: right;\">\n",
       "      <th></th>\n",
       "      <th>item_name</th>\n",
       "      <th>price</th>\n",
       "      <th>rating</th>\n",
       "      <th>reviews</th>\n",
       "      <th>brand_name</th>\n",
       "      <th>weighted_review</th>\n",
       "    </tr>\n",
       "  </thead>\n",
       "  <tbody>\n",
       "    <tr>\n",
       "      <th>0</th>\n",
       "      <td>Crocs Unisex-Adult Classic Clogs</td>\n",
       "      <td>26.65</td>\n",
       "      <td>4.8</td>\n",
       "      <td>532063</td>\n",
       "      <td>Crocs</td>\n",
       "      <td>2553902.4</td>\n",
       "    </tr>\n",
       "    <tr>\n",
       "      <th>1</th>\n",
       "      <td>Crocs Unisex-Child Classic Clog</td>\n",
       "      <td>34.99</td>\n",
       "      <td>4.8</td>\n",
       "      <td>118999</td>\n",
       "      <td>Crocs</td>\n",
       "      <td>571195.2</td>\n",
       "    </tr>\n",
       "    <tr>\n",
       "      <th>2</th>\n",
       "      <td>Hey Dude Women's Wendy L</td>\n",
       "      <td>30.64</td>\n",
       "      <td>4.7</td>\n",
       "      <td>111484</td>\n",
       "      <td>Hey Dude</td>\n",
       "      <td>523974.8</td>\n",
       "    </tr>\n",
       "    <tr>\n",
       "      <th>3</th>\n",
       "      <td>Saucony Women's Performance Heel Tab Athletic ...</td>\n",
       "      <td>12.61</td>\n",
       "      <td>4.8</td>\n",
       "      <td>100659</td>\n",
       "      <td>Saucony</td>\n",
       "      <td>483163.2</td>\n",
       "    </tr>\n",
       "    <tr>\n",
       "      <th>4</th>\n",
       "      <td>Crocs unisex-adult Classic Lined Clog</td>\n",
       "      <td>32.66</td>\n",
       "      <td>4.8</td>\n",
       "      <td>92661</td>\n",
       "      <td>Crocs</td>\n",
       "      <td>444772.8</td>\n",
       "    </tr>\n",
       "    <tr>\n",
       "      <th>...</th>\n",
       "      <td>...</td>\n",
       "      <td>...</td>\n",
       "      <td>...</td>\n",
       "      <td>...</td>\n",
       "      <td>...</td>\n",
       "      <td>...</td>\n",
       "    </tr>\n",
       "    <tr>\n",
       "      <th>3599</th>\n",
       "      <td>Columbia Men's Bahama Vent Loco Iii Boat Shoe</td>\n",
       "      <td>74.95</td>\n",
       "      <td>3.0</td>\n",
       "      <td>1</td>\n",
       "      <td>Columbia</td>\n",
       "      <td>3.0</td>\n",
       "    </tr>\n",
       "    <tr>\n",
       "      <th>3600</th>\n",
       "      <td>Capezio Women's Cassie Jr. Character Shoe, Bla...</td>\n",
       "      <td>38.90</td>\n",
       "      <td>3.0</td>\n",
       "      <td>1</td>\n",
       "      <td>Capezio</td>\n",
       "      <td>3.0</td>\n",
       "    </tr>\n",
       "    <tr>\n",
       "      <th>3601</th>\n",
       "      <td>Dockers Footwear Men's Oxford, Black, 7</td>\n",
       "      <td>50.61</td>\n",
       "      <td>1.0</td>\n",
       "      <td>1</td>\n",
       "      <td>Dockers</td>\n",
       "      <td>1.0</td>\n",
       "    </tr>\n",
       "    <tr>\n",
       "      <th>3602</th>\n",
       "      <td>Salomon Women's Speedcross 5 Gore-tex Trail Ru...</td>\n",
       "      <td>149.95</td>\n",
       "      <td>1.0</td>\n",
       "      <td>1</td>\n",
       "      <td>Salomon</td>\n",
       "      <td>1.0</td>\n",
       "    </tr>\n",
       "    <tr>\n",
       "      <th>3603</th>\n",
       "      <td>K-Swiss Women's Speed Trac Tennis Shoe</td>\n",
       "      <td>88.00</td>\n",
       "      <td>1.0</td>\n",
       "      <td>1</td>\n",
       "      <td>K-Swiss</td>\n",
       "      <td>1.0</td>\n",
       "    </tr>\n",
       "  </tbody>\n",
       "</table>\n",
       "<p>3604 rows × 6 columns</p>\n",
       "</div>"
      ],
      "text/plain": [
       "                                              item_name   price  rating  \\\n",
       "0                      Crocs Unisex-Adult Classic Clogs   26.65     4.8   \n",
       "1                       Crocs Unisex-Child Classic Clog   34.99     4.8   \n",
       "2                              Hey Dude Women's Wendy L   30.64     4.7   \n",
       "3     Saucony Women's Performance Heel Tab Athletic ...   12.61     4.8   \n",
       "4                 Crocs unisex-adult Classic Lined Clog   32.66     4.8   \n",
       "...                                                 ...     ...     ...   \n",
       "3599      Columbia Men's Bahama Vent Loco Iii Boat Shoe   74.95     3.0   \n",
       "3600  Capezio Women's Cassie Jr. Character Shoe, Bla...   38.90     3.0   \n",
       "3601            Dockers Footwear Men's Oxford, Black, 7   50.61     1.0   \n",
       "3602  Salomon Women's Speedcross 5 Gore-tex Trail Ru...  149.95     1.0   \n",
       "3603             K-Swiss Women's Speed Trac Tennis Shoe   88.00     1.0   \n",
       "\n",
       "      reviews brand_name  weighted_review  \n",
       "0      532063      Crocs        2553902.4  \n",
       "1      118999      Crocs         571195.2  \n",
       "2      111484   Hey Dude         523974.8  \n",
       "3      100659    Saucony         483163.2  \n",
       "4       92661      Crocs         444772.8  \n",
       "...       ...        ...              ...  \n",
       "3599        1   Columbia              3.0  \n",
       "3600        1    Capezio              3.0  \n",
       "3601        1    Dockers              1.0  \n",
       "3602        1    Salomon              1.0  \n",
       "3603        1    K-Swiss              1.0  \n",
       "\n",
       "[3604 rows x 6 columns]"
      ]
     },
     "execution_count": 29,
     "metadata": {},
     "output_type": "execute_result"
    }
   ],
   "source": [
    "df_sorted"
   ]
  },
  {
   "cell_type": "code",
   "execution_count": 30,
   "id": "a76c92bd-20b4-499c-b34b-c7caf52e3482",
   "metadata": {},
   "outputs": [
    {
     "data": {
      "text/html": [
       "<div>\n",
       "<style scoped>\n",
       "    .dataframe tbody tr th:only-of-type {\n",
       "        vertical-align: middle;\n",
       "    }\n",
       "\n",
       "    .dataframe tbody tr th {\n",
       "        vertical-align: top;\n",
       "    }\n",
       "\n",
       "    .dataframe thead th {\n",
       "        text-align: right;\n",
       "    }\n",
       "</style>\n",
       "<table border=\"1\" class=\"dataframe\">\n",
       "  <thead>\n",
       "    <tr style=\"text-align: right;\">\n",
       "      <th></th>\n",
       "      <th>price</th>\n",
       "      <th>rating</th>\n",
       "      <th>reviews</th>\n",
       "      <th>weighted_review</th>\n",
       "    </tr>\n",
       "  </thead>\n",
       "  <tbody>\n",
       "    <tr>\n",
       "      <th>count</th>\n",
       "      <td>3604.000000</td>\n",
       "      <td>3604.000000</td>\n",
       "      <td>3604.000000</td>\n",
       "      <td>3.604000e+03</td>\n",
       "    </tr>\n",
       "    <tr>\n",
       "      <th>mean</th>\n",
       "      <td>61.998821</td>\n",
       "      <td>4.376776</td>\n",
       "      <td>2826.529134</td>\n",
       "      <td>1.274188e+04</td>\n",
       "    </tr>\n",
       "    <tr>\n",
       "      <th>std</th>\n",
       "      <td>34.314400</td>\n",
       "      <td>0.309703</td>\n",
       "      <td>11463.461565</td>\n",
       "      <td>5.409836e+04</td>\n",
       "    </tr>\n",
       "    <tr>\n",
       "      <th>min</th>\n",
       "      <td>6.680000</td>\n",
       "      <td>1.000000</td>\n",
       "      <td>1.000000</td>\n",
       "      <td>1.000000e+00</td>\n",
       "    </tr>\n",
       "    <tr>\n",
       "      <th>25%</th>\n",
       "      <td>39.990000</td>\n",
       "      <td>4.200000</td>\n",
       "      <td>62.000000</td>\n",
       "      <td>2.663250e+02</td>\n",
       "    </tr>\n",
       "    <tr>\n",
       "      <th>50%</th>\n",
       "      <td>51.985000</td>\n",
       "      <td>4.400000</td>\n",
       "      <td>412.000000</td>\n",
       "      <td>1.804600e+03</td>\n",
       "    </tr>\n",
       "    <tr>\n",
       "      <th>75%</th>\n",
       "      <td>74.000000</td>\n",
       "      <td>4.600000</td>\n",
       "      <td>1957.000000</td>\n",
       "      <td>8.359200e+03</td>\n",
       "    </tr>\n",
       "    <tr>\n",
       "      <th>max</th>\n",
       "      <td>358.510000</td>\n",
       "      <td>5.000000</td>\n",
       "      <td>532063.000000</td>\n",
       "      <td>2.553902e+06</td>\n",
       "    </tr>\n",
       "  </tbody>\n",
       "</table>\n",
       "</div>"
      ],
      "text/plain": [
       "             price       rating        reviews  weighted_review\n",
       "count  3604.000000  3604.000000    3604.000000     3.604000e+03\n",
       "mean     61.998821     4.376776    2826.529134     1.274188e+04\n",
       "std      34.314400     0.309703   11463.461565     5.409836e+04\n",
       "min       6.680000     1.000000       1.000000     1.000000e+00\n",
       "25%      39.990000     4.200000      62.000000     2.663250e+02\n",
       "50%      51.985000     4.400000     412.000000     1.804600e+03\n",
       "75%      74.000000     4.600000    1957.000000     8.359200e+03\n",
       "max     358.510000     5.000000  532063.000000     2.553902e+06"
      ]
     },
     "execution_count": 30,
     "metadata": {},
     "output_type": "execute_result"
    }
   ],
   "source": [
    "df_sorted.describe()#statistical description of data"
   ]
  },
  {
   "cell_type": "code",
   "execution_count": 31,
   "id": "cfe06c1b-804f-4ad0-8e05-4cb1e075acda",
   "metadata": {},
   "outputs": [],
   "source": [
    "df_sorted.to_csv(\"cleaned_up.csv\", index=False)"
   ]
  },
  {
   "cell_type": "markdown",
   "id": "3d5cb9bf-dbd8-4bf3-a83e-ca72f4ef438f",
   "metadata": {},
   "source": [
    "### insights from statistical data\n",
    "\n",
    "* max is far from 3rd quartile in weighted_review and reviews this is a clear sign of outliers in the data\n",
    "* min also?\n",
    "* compare median and mean"
   ]
  },
  {
   "cell_type": "code",
   "execution_count": 32,
   "id": "cbe0552d-256a-461c-b1fe-4179abb9d939",
   "metadata": {},
   "outputs": [
    {
     "name": "stdout",
     "output_type": "stream",
     "text": [
      "median:  1804.6\n",
      "mean:  12741.876165371768\n"
     ]
    }
   ],
   "source": [
    "print(\"median: \", np.median(df_clean.weighted_review))\n",
    "print(\"mean: \", np.mean(df_clean.weighted_review))"
   ]
  },
  {
   "cell_type": "code",
   "execution_count": 33,
   "id": "d157c8c9-6b40-4b53-999a-d49383fdfbad",
   "metadata": {},
   "outputs": [],
   "source": [
    "#Eliminate outliers with the use of the inter quartile range\n",
    "#IQR = Q3 – Q1\n",
    "#Upper fence = Q3 + (1.5 * IQR)\n",
    "#Lower fence = Q1 – (1.5 * IQR)\n",
    "\n",
    "Q3 = df_sorted.describe()[\"weighted_review\"][\"75%\"]\n",
    "Q1 = df_sorted.describe()[\"weighted_review\"][\"25%\"]\n",
    "IQR = Q3 - Q1\n",
    "UF = Q1 + (1.5 * IQR)\n",
    "LF = Q1 - (1.5 * IQR)\n",
    "\n",
    "df_analyze = df_sorted[(df_sorted.weighted_review >= LF ) & (df_sorted.weighted_review <= UF )].reset_index(drop=True)"
   ]
  },
  {
   "cell_type": "code",
   "execution_count": 34,
   "id": "8af3d7cb-8777-457b-b2c7-a51ed12b553d",
   "metadata": {},
   "outputs": [
    {
     "data": {
      "text/html": [
       "<div>\n",
       "<style scoped>\n",
       "    .dataframe tbody tr th:only-of-type {\n",
       "        vertical-align: middle;\n",
       "    }\n",
       "\n",
       "    .dataframe tbody tr th {\n",
       "        vertical-align: top;\n",
       "    }\n",
       "\n",
       "    .dataframe thead th {\n",
       "        text-align: right;\n",
       "    }\n",
       "</style>\n",
       "<table border=\"1\" class=\"dataframe\">\n",
       "  <thead>\n",
       "    <tr style=\"text-align: right;\">\n",
       "      <th></th>\n",
       "      <th>item_name</th>\n",
       "      <th>price</th>\n",
       "      <th>rating</th>\n",
       "      <th>reviews</th>\n",
       "      <th>brand_name</th>\n",
       "      <th>weighted_review</th>\n",
       "    </tr>\n",
       "  </thead>\n",
       "  <tbody>\n",
       "    <tr>\n",
       "      <th>0</th>\n",
       "      <td>Brooks Men's Addiction Walker 2 Walking Shoe -...</td>\n",
       "      <td>129.95</td>\n",
       "      <td>4.4</td>\n",
       "      <td>2816</td>\n",
       "      <td>Brooks</td>\n",
       "      <td>12390.4</td>\n",
       "    </tr>\n",
       "    <tr>\n",
       "      <th>1</th>\n",
       "      <td>Rockport Men's Springboro Rocklake Sandal</td>\n",
       "      <td>51.89</td>\n",
       "      <td>4.6</td>\n",
       "      <td>2688</td>\n",
       "      <td>Rockport</td>\n",
       "      <td>12364.8</td>\n",
       "    </tr>\n",
       "    <tr>\n",
       "      <th>2</th>\n",
       "      <td>Clarks Women's Merliah Karli Sandal</td>\n",
       "      <td>46.99</td>\n",
       "      <td>4.3</td>\n",
       "      <td>2855</td>\n",
       "      <td>Clarks</td>\n",
       "      <td>12276.5</td>\n",
       "    </tr>\n",
       "    <tr>\n",
       "      <th>3</th>\n",
       "      <td>Hey Dude Women's Wendy Rise Peacock | Women’s ...</td>\n",
       "      <td>41.71</td>\n",
       "      <td>4.7</td>\n",
       "      <td>2595</td>\n",
       "      <td>Hey Dude</td>\n",
       "      <td>12196.5</td>\n",
       "    </tr>\n",
       "    <tr>\n",
       "      <th>4</th>\n",
       "      <td>Rockport Women's Ramona Flat Sandal</td>\n",
       "      <td>37.89</td>\n",
       "      <td>4.4</td>\n",
       "      <td>2755</td>\n",
       "      <td>Rockport</td>\n",
       "      <td>12122.0</td>\n",
       "    </tr>\n",
       "  </tbody>\n",
       "</table>\n",
       "</div>"
      ],
      "text/plain": [
       "                                           item_name   price  rating  reviews  \\\n",
       "0  Brooks Men's Addiction Walker 2 Walking Shoe -...  129.95     4.4     2816   \n",
       "1          Rockport Men's Springboro Rocklake Sandal   51.89     4.6     2688   \n",
       "2                Clarks Women's Merliah Karli Sandal   46.99     4.3     2855   \n",
       "3  Hey Dude Women's Wendy Rise Peacock | Women’s ...   41.71     4.7     2595   \n",
       "4                Rockport Women's Ramona Flat Sandal   37.89     4.4     2755   \n",
       "\n",
       "  brand_name  weighted_review  \n",
       "0     Brooks          12390.4  \n",
       "1   Rockport          12364.8  \n",
       "2     Clarks          12276.5  \n",
       "3   Hey Dude          12196.5  \n",
       "4   Rockport          12122.0  "
      ]
     },
     "execution_count": 34,
     "metadata": {},
     "output_type": "execute_result"
    }
   ],
   "source": [
    "df_analyze.head()"
   ]
  },
  {
   "cell_type": "code",
   "execution_count": 35,
   "id": "d8dff631-9298-4884-bf2b-4658b575be8a",
   "metadata": {},
   "outputs": [
    {
     "data": {
      "text/plain": [
       "(2872, 6)"
      ]
     },
     "execution_count": 35,
     "metadata": {},
     "output_type": "execute_result"
    }
   ],
   "source": [
    "df_analyze.shape"
   ]
  },
  {
   "cell_type": "markdown",
   "id": "fa8b2394-89a5-415f-8d0c-5653bfcfecda",
   "metadata": {},
   "source": [
    "## EDA"
   ]
  },
  {
   "cell_type": "markdown",
   "id": "edacd89d-78ba-413d-bc1b-a7459d199459",
   "metadata": {},
   "source": [
    "#### Questions\n",
    "* Relationship between the brands and price,average ratings and weighted review"
   ]
  },
  {
   "cell_type": "code",
   "execution_count": 36,
   "id": "05f3766f-a568-4651-8dd7-ac6a4d63448b",
   "metadata": {},
   "outputs": [
    {
     "name": "stdout",
     "output_type": "stream",
     "text": [
      "40  brands available\n"
     ]
    }
   ],
   "source": [
    "#what is the relationship between price and brand\n",
    "#First, see number of brands available\n",
    "print(len(df_analyze[\"brand_name\"].value_counts()), \" brands available\")"
   ]
  },
  {
   "cell_type": "code",
   "execution_count": 37,
   "id": "1ec6ed53-7d68-4392-a2d8-ab73da34c775",
   "metadata": {},
   "outputs": [
    {
     "name": "stdout",
     "output_type": "stream",
     "text": [
      "JBU by Jambu          92\n",
      "Easy Spirit           90\n",
      "Lugz                  90\n",
      "WHITE MOUNTAIN        89\n",
      "Columbia              89\n",
      "Steve Madden          88\n",
      "Capezio               87\n",
      "Ryka                  87\n",
      "OLUKAI                86\n",
      "Cole Haan             84\n",
      "Saucony               84\n",
      "TOMS                  81\n",
      "LifeStride            81\n",
      "ALTRA                 80\n",
      "PUMA                  78\n",
      "Sperry                76\n",
      "Rockport              76\n",
      "Salomon               75\n",
      "K-Swiss               75\n",
      "Roxy                  74\n",
      "Merrell               70\n",
      "Nike                  70\n",
      "Dockers               70\n",
      "Brooks                69\n",
      "FootJoy               69\n",
      "Dr. Scholl's Shoes    69\n",
      "Bruno Marc            67\n",
      "Reebok                67\n",
      "Hey Dude              67\n",
      "Clarks                64\n",
      "ASICS                 63\n",
      "adidas Originals      63\n",
      "Under Armour          63\n",
      "DREAM PAIRS           60\n",
      "adidas                60\n",
      "Amazon Essentials     58\n",
      "New Balance           57\n",
      "Keds                  55\n",
      "Crocs                 38\n",
      "Skechers              11\n",
      "Name: brand_name, dtype: int64\n"
     ]
    }
   ],
   "source": [
    "print(df_analyze[\"brand_name\"].value_counts())"
   ]
  },
  {
   "cell_type": "code",
   "execution_count": 38,
   "id": "e794a75a-7c58-4d2f-9dbc-520119955c71",
   "metadata": {},
   "outputs": [],
   "source": [
    "price_weight_ave = df_analyze[[\"brand_name\",\"price\",\"weighted_review\"]].groupby(\"brand_name\").mean()"
   ]
  },
  {
   "cell_type": "code",
   "execution_count": 39,
   "id": "61fbee01-ef59-4d43-86e4-244f9625d068",
   "metadata": {},
   "outputs": [
    {
     "data": {
      "text/plain": [
       "brand_name\n",
       "ALTRA        128.857500\n",
       "FootJoy      124.560725\n",
       "Brooks       120.390580\n",
       "Salomon      107.104667\n",
       "Cole Haan     99.152262\n",
       "OLUKAI        97.234884\n",
       "Nike          80.241429\n",
       "Saucony       74.874881\n",
       "Columbia      73.666067\n",
       "K-Swiss       73.351867\n",
       "Name: price, dtype: float64"
      ]
     },
     "execution_count": 39,
     "metadata": {},
     "output_type": "execute_result"
    }
   ],
   "source": [
    "price_weight_ave.sort_values(\"price\", ascending=False)[:10][\"price\"]"
   ]
  },
  {
   "cell_type": "markdown",
   "id": "1d0f3e31-266d-4278-8cb7-31e0a1729e9f",
   "metadata": {},
   "source": [
    "> average price of shoes in decscending order meaning these are the 10 most expensive shoe brands"
   ]
  },
  {
   "cell_type": "code",
   "execution_count": 40,
   "id": "0dcea27d-42f6-408e-aa3b-296982f6ac27",
   "metadata": {},
   "outputs": [
    {
     "data": {
      "text/plain": [
       "brand_name\n",
       "Skechers       4625.509091\n",
       "adidas         3797.416667\n",
       "DREAM PAIRS    3682.536667\n",
       "Bruno Marc     3586.420896\n",
       "Merrell        3487.514286\n",
       "ASICS          3429.679365\n",
       "Crocs          3256.118421\n",
       "Clarks         3078.039062\n",
       "Rockport       3042.859211\n",
       "Reebok         2974.216418\n",
       "Name: weighted_review, dtype: float64"
      ]
     },
     "execution_count": 40,
     "metadata": {},
     "output_type": "execute_result"
    }
   ],
   "source": [
    "price_weight_ave.sort_values(\"weighted_review\", ascending=False)[:10][\"weighted_review\"]"
   ]
  },
  {
   "cell_type": "markdown",
   "id": "fb4ea7f6-401b-4672-b90c-0037c2cbeb7a",
   "metadata": {},
   "source": [
    "> average weighted rating of shoes in decscending order meaning these are the 10 most highly rated shoes on amazon"
   ]
  },
  {
   "cell_type": "code",
   "execution_count": 41,
   "id": "de566e5f-745a-41d8-865d-cb578a8e1fb5",
   "metadata": {},
   "outputs": [
    {
     "data": {
      "text/html": [
       "<div>\n",
       "<style scoped>\n",
       "    .dataframe tbody tr th:only-of-type {\n",
       "        vertical-align: middle;\n",
       "    }\n",
       "\n",
       "    .dataframe tbody tr th {\n",
       "        vertical-align: top;\n",
       "    }\n",
       "\n",
       "    .dataframe thead th {\n",
       "        text-align: right;\n",
       "    }\n",
       "</style>\n",
       "<table border=\"1\" class=\"dataframe\">\n",
       "  <thead>\n",
       "    <tr style=\"text-align: right;\">\n",
       "      <th></th>\n",
       "      <th>rating</th>\n",
       "    </tr>\n",
       "    <tr>\n",
       "      <th>brand_name</th>\n",
       "      <th></th>\n",
       "    </tr>\n",
       "  </thead>\n",
       "  <tbody>\n",
       "    <tr>\n",
       "      <th>Hey Dude</th>\n",
       "      <td>4.634328</td>\n",
       "    </tr>\n",
       "    <tr>\n",
       "      <th>Under Armour</th>\n",
       "      <td>4.530159</td>\n",
       "    </tr>\n",
       "    <tr>\n",
       "      <th>Brooks</th>\n",
       "      <td>4.497101</td>\n",
       "    </tr>\n",
       "    <tr>\n",
       "      <th>Crocs</th>\n",
       "      <td>4.492105</td>\n",
       "    </tr>\n",
       "    <tr>\n",
       "      <th>Skechers</th>\n",
       "      <td>4.481818</td>\n",
       "    </tr>\n",
       "    <tr>\n",
       "      <th>adidas</th>\n",
       "      <td>4.475000</td>\n",
       "    </tr>\n",
       "    <tr>\n",
       "      <th>Sperry</th>\n",
       "      <td>4.473684</td>\n",
       "    </tr>\n",
       "    <tr>\n",
       "      <th>PUMA</th>\n",
       "      <td>4.469231</td>\n",
       "    </tr>\n",
       "    <tr>\n",
       "      <th>ASICS</th>\n",
       "      <td>4.466667</td>\n",
       "    </tr>\n",
       "    <tr>\n",
       "      <th>adidas Originals</th>\n",
       "      <td>4.457143</td>\n",
       "    </tr>\n",
       "  </tbody>\n",
       "</table>\n",
       "</div>"
      ],
      "text/plain": [
       "                    rating\n",
       "brand_name                \n",
       "Hey Dude          4.634328\n",
       "Under Armour      4.530159\n",
       "Brooks            4.497101\n",
       "Crocs             4.492105\n",
       "Skechers          4.481818\n",
       "adidas            4.475000\n",
       "Sperry            4.473684\n",
       "PUMA              4.469231\n",
       "ASICS             4.466667\n",
       "adidas Originals  4.457143"
      ]
     },
     "execution_count": 41,
     "metadata": {},
     "output_type": "execute_result"
    }
   ],
   "source": [
    "ave_rate = df_analyze[[\"brand_name\",\"rating\"]].groupby(\"brand_name\").mean().sort_values(\"rating\", ascending=False)[:10]\n",
    "ave_rate[:10]"
   ]
  },
  {
   "cell_type": "markdown",
   "id": "0187e174-23f7-4ca8-a7e9-a00b1dfcc4b4",
   "metadata": {},
   "source": [
    "> First 10 most highly rated shoes, but without number of reviews in consideration"
   ]
  },
  {
   "cell_type": "code",
   "execution_count": 42,
   "id": "2660c085-fd31-4c9c-9203-0e7065cdb553",
   "metadata": {},
   "outputs": [
    {
     "data": {
      "text/html": [
       "<div>\n",
       "<style scoped>\n",
       "    .dataframe tbody tr th:only-of-type {\n",
       "        vertical-align: middle;\n",
       "    }\n",
       "\n",
       "    .dataframe tbody tr th {\n",
       "        vertical-align: top;\n",
       "    }\n",
       "\n",
       "    .dataframe thead th {\n",
       "        text-align: right;\n",
       "    }\n",
       "</style>\n",
       "<table border=\"1\" class=\"dataframe\">\n",
       "  <thead>\n",
       "    <tr style=\"text-align: right;\">\n",
       "      <th></th>\n",
       "      <th>price</th>\n",
       "      <th>weighted_review</th>\n",
       "    </tr>\n",
       "    <tr>\n",
       "      <th>brand_name</th>\n",
       "      <th></th>\n",
       "      <th></th>\n",
       "    </tr>\n",
       "  </thead>\n",
       "  <tbody>\n",
       "    <tr>\n",
       "      <th>Skechers</th>\n",
       "      <td>42.500000</td>\n",
       "      <td>4625.509091</td>\n",
       "    </tr>\n",
       "    <tr>\n",
       "      <th>adidas</th>\n",
       "      <td>58.588000</td>\n",
       "      <td>3797.416667</td>\n",
       "    </tr>\n",
       "    <tr>\n",
       "      <th>DREAM PAIRS</th>\n",
       "      <td>32.735667</td>\n",
       "      <td>3682.536667</td>\n",
       "    </tr>\n",
       "    <tr>\n",
       "      <th>Bruno Marc</th>\n",
       "      <td>32.642388</td>\n",
       "      <td>3586.420896</td>\n",
       "    </tr>\n",
       "    <tr>\n",
       "      <th>Merrell</th>\n",
       "      <td>72.978000</td>\n",
       "      <td>3487.514286</td>\n",
       "    </tr>\n",
       "    <tr>\n",
       "      <th>ASICS</th>\n",
       "      <td>73.347302</td>\n",
       "      <td>3429.679365</td>\n",
       "    </tr>\n",
       "    <tr>\n",
       "      <th>Crocs</th>\n",
       "      <td>37.842632</td>\n",
       "      <td>3256.118421</td>\n",
       "    </tr>\n",
       "    <tr>\n",
       "      <th>Clarks</th>\n",
       "      <td>50.167187</td>\n",
       "      <td>3078.039062</td>\n",
       "    </tr>\n",
       "    <tr>\n",
       "      <th>Rockport</th>\n",
       "      <td>65.265789</td>\n",
       "      <td>3042.859211</td>\n",
       "    </tr>\n",
       "    <tr>\n",
       "      <th>Reebok</th>\n",
       "      <td>69.208955</td>\n",
       "      <td>2974.216418</td>\n",
       "    </tr>\n",
       "  </tbody>\n",
       "</table>\n",
       "</div>"
      ],
      "text/plain": [
       "                 price  weighted_review\n",
       "brand_name                             \n",
       "Skechers     42.500000      4625.509091\n",
       "adidas       58.588000      3797.416667\n",
       "DREAM PAIRS  32.735667      3682.536667\n",
       "Bruno Marc   32.642388      3586.420896\n",
       "Merrell      72.978000      3487.514286\n",
       "ASICS        73.347302      3429.679365\n",
       "Crocs        37.842632      3256.118421\n",
       "Clarks       50.167187      3078.039062\n",
       "Rockport     65.265789      3042.859211\n",
       "Reebok       69.208955      2974.216418"
      ]
     },
     "execution_count": 42,
     "metadata": {},
     "output_type": "execute_result"
    }
   ],
   "source": [
    "weighted_brand = df_analyze[[\"brand_name\",\"price\",\"weighted_review\"]].groupby(\"brand_name\").mean().sort_values(\"weighted_review\", ascending=False)\n",
    "weighted_brand[:10]"
   ]
  },
  {
   "cell_type": "markdown",
   "id": "e1e600e4-ded6-4f86-be89-5f58df1ba756",
   "metadata": {},
   "source": [
    "> First 10 most highly rated shoes, but with the number of reviews put into consideration"
   ]
  },
  {
   "cell_type": "code",
   "execution_count": 43,
   "id": "ebc39b50-292a-46b5-9ea8-003ee7cb8572",
   "metadata": {},
   "outputs": [
    {
     "name": "stdout",
     "output_type": "stream",
     "text": [
      "10 most popular shoe brands: \n",
      "Skechers\n",
      "DREAM PAIRS\n",
      "adidas\n",
      "Bruno Marc\n",
      "Merrell\n",
      "ASICS\n",
      "Crocs\n",
      "Clarks\n",
      "Rockport\n",
      "Reebok\n"
     ]
    }
   ],
   "source": [
    "#Most popular brands based on number of reviews\n",
    "popular = df_analyze[[\"brand_name\",\"reviews\"]].groupby(\"brand_name\").mean().sort_values(by=\"reviews\", ascending = False)\n",
    "print(\"10 most popular shoe brands: \")\n",
    "for i in popular.index[:10]:\n",
    "    print (i)\n"
   ]
  },
  {
   "cell_type": "markdown",
   "id": "829a2aad-0196-4637-88b9-dbffcf5688fe",
   "metadata": {},
   "source": [
    "### Visualization"
   ]
  },
  {
   "cell_type": "markdown",
   "id": "a86b07ca-623f-42ea-8fc1-0fbf18f0a140",
   "metadata": {},
   "source": [
    "### Questions\n",
    "* relationship between price and weighted review(scatter plot?)\n",
    "* relationship between price and reviews(scatter plot?)\n",
    "* box plot and histograms (Need to know lowest and highest and see distributions)\n",
    "* Relationship between the brands and price,average ratings and weighted review"
   ]
  },
  {
   "cell_type": "markdown",
   "id": "849a6b89-52df-4c3c-a3f4-4fca6a508908",
   "metadata": {},
   "source": [
    "### Single"
   ]
  },
  {
   "cell_type": "code",
   "execution_count": 44,
   "id": "dac6549a-7fce-4cc3-bf56-ca2ebbef7606",
   "metadata": {},
   "outputs": [
    {
     "data": {
      "image/png": "[encoded data removed]",
      "text/plain": [
       "<Figure size 432x288 with 1 Axes>"
      ]
     },
     "metadata": {
      "needs_background": "light"
     },
     "output_type": "display_data"
    }
   ],
   "source": [
    "sns.histplot(data = df_analyze, x = \"price\", bins=10, color = \"green\", element=\"bars\", kde=True)\n",
    "plt.title(\"Price histogram\");"
   ]
  },
  {
   "cell_type": "code",
   "execution_count": 45,
   "id": "e79a7198-f658-485c-9359-fe3a544fdf82",
   "metadata": {},
   "outputs": [
    {
     "data": {
      "image/png": "[encoded data removed]",
      "text/plain": [
       "<Figure size 432x288 with 1 Axes>"
      ]
     },
     "metadata": {
      "needs_background": "light"
     },
     "output_type": "display_data"
    }
   ],
   "source": [
    "sns.boxplot(data = df_analyze, x = \"price\")\n",
    "plt.title(\"Price boxplot\");"
   ]
  },
  {
   "cell_type": "markdown",
   "id": "6b5ab516-baee-4b1e-8908-3bda464abc93",
   "metadata": {},
   "source": [
    "> price is clearly skewed, with the average price at 50 dollars and a shoe being as high as over 200 dollars\n",
    "\n",
    "* <b>Note :</b>should check the brands or categories that are above a 100 dollars, might be a connection"
   ]
  },
  {
   "cell_type": "code",
   "execution_count": 46,
   "id": "a50fcf79-4110-4996-9f54-c12e79e86e78",
   "metadata": {},
   "outputs": [
    {
     "data": {
      "image/png": "[encoded data removed]",
      "text/plain": [
       "<Figure size 432x288 with 1 Axes>"
      ]
     },
     "metadata": {
      "needs_background": "light"
     },
     "output_type": "display_data"
    }
   ],
   "source": [
    "sns.histplot(data = df_analyze, x = \"weighted_review\", bins=10, color = \"green\", element=\"bars\", kde=True)\n",
    "plt.title(\"Weighted review histogram\");"
   ]
  },
  {
   "cell_type": "code",
   "execution_count": 47,
   "id": "2eb025af-90b3-4eee-bcc9-76299a8b50aa",
   "metadata": {},
   "outputs": [
    {
     "data": {
      "image/png": "[encoded data removed]",
      "text/plain": [
       "<Figure size 432x288 with 1 Axes>"
      ]
     },
     "metadata": {
      "needs_background": "light"
     },
     "output_type": "display_data"
    }
   ],
   "source": [
    "sns.boxplot(data = df_analyze, x = \"weighted_review\")\n",
    "plt.title(\"Weighted_review boxplot\");"
   ]
  },
  {
   "cell_type": "markdown",
   "id": "38404760-529d-4798-b103-aff264d27a67",
   "metadata": {},
   "source": [
    "> clearly skewed also\n",
    "\n",
    "* <b>Note :</b>should check the brands or categories of outliers also ( > than 5500)"
   ]
  },
  {
   "cell_type": "markdown",
   "id": "93a718eb-a61e-4261-9d9d-be5b9654b476",
   "metadata": {},
   "source": [
    "### Relationships"
   ]
  },
  {
   "cell_type": "markdown",
   "id": "4e764bbb-f129-4986-99d3-3d52c619ae15",
   "metadata": {},
   "source": [
    "#### Price & Weighted review\n",
    "> are there cheap shoes with high weights?"
   ]
  },
  {
   "cell_type": "code",
   "execution_count": 48,
   "id": "9dc9330d-afba-4ff4-bfaa-b70c4a2e6e0f",
   "metadata": {},
   "outputs": [
    {
     "data": {
      "image/png": "[encoded data removed]",
      "text/plain": [
       "<Figure size 432x288 with 1 Axes>"
      ]
     },
     "metadata": {
      "needs_background": "light"
     },
     "output_type": "display_data"
    }
   ],
   "source": [
    "sns.scatterplot(data = df_analyze, x = \"price\", y = \"weighted_review\")\n",
    "plt.title(\"weighted review vs price\");"
   ]
  },
  {
   "cell_type": "code",
   "execution_count": 49,
   "id": "eb65b03e-65e9-47c5-a45c-4f264ea58973",
   "metadata": {},
   "outputs": [
    {
     "data": {
      "image/png": "[encoded data removed]",
      "text/plain": [
       "<Figure size 432x288 with 1 Axes>"
      ]
     },
     "metadata": {
      "needs_background": "light"
     },
     "output_type": "display_data"
    }
   ],
   "source": [
    "sns.scatterplot(data = price_weight_ave, x = \"price\", y = \"weighted_review\");\n",
    "plt.title(\"average weighted review vs price\");\n"
   ]
  },
  {
   "cell_type": "code",
   "execution_count": 62,
   "id": "664f968b-0592-4c66-bf1e-528390c00013",
   "metadata": {},
   "outputs": [
    {
     "data": {
      "image/png": "[encoded data removed]",
      "text/plain": [
       "<Figure size 432x288 with 1 Axes>"
      ]
     },
     "metadata": {
      "needs_background": "light"
     },
     "output_type": "display_data"
    }
   ],
   "source": [
    "tot = len(price_weight_ave)\n",
    "a = np.median(price_weight_ave.price)\n",
    "b = np.median(price_weight_ave.weighted_review)\n",
    "x_y = [80 for i in range(0,tot)]\n",
    "y_x = [(2500+3000)/2 for i in range(0,tot)]\n",
    "y = price_weight_ave.weighted_review\n",
    "x = price_weight_ave.price\n",
    "sns.scatterplot(data = price_weight_ave, x = \"price\", y = \"weighted_review\");\n",
    "plt.title(\"average weighted review vs price\");\n",
    "plt.plot(x_y, y, color = 'orange')\n",
    "plt.plot(x, y_x, color = 'orange')\n",
    "plt.savefig('a_w_r.png')"
   ]
  },
  {
   "cell_type": "code",
   "execution_count": null,
   "id": "c19344f0-0985-4aa3-a769-2713fc4e5652",
   "metadata": {},
   "outputs": [],
   "source": []
  },
  {
   "cell_type": "markdown",
   "id": "574303c9-ff1e-40b3-ae69-0d8a93ea54a3",
   "metadata": {},
   "source": [
    "> Plot seems to show an inverse relationship between price and weighted review. Could mean that cheaper shoes do get more appreciation by consumers. Also, if separated into four segments, the top right conner depicting high price and high weighted review is unpopulated, also suggesting that cheaper brands should be gotten."
   ]
  },
  {
   "cell_type": "code",
   "execution_count": 51,
   "id": "76a9197e-3625-48ca-a93a-c82f79d70590",
   "metadata": {},
   "outputs": [
    {
     "data": {
      "text/html": [
       "<div>\n",
       "<style scoped>\n",
       "    .dataframe tbody tr th:only-of-type {\n",
       "        vertical-align: middle;\n",
       "    }\n",
       "\n",
       "    .dataframe tbody tr th {\n",
       "        vertical-align: top;\n",
       "    }\n",
       "\n",
       "    .dataframe thead th {\n",
       "        text-align: right;\n",
       "    }\n",
       "</style>\n",
       "<table border=\"1\" class=\"dataframe\">\n",
       "  <thead>\n",
       "    <tr style=\"text-align: right;\">\n",
       "      <th></th>\n",
       "      <th>item_name</th>\n",
       "      <th>price</th>\n",
       "      <th>rating</th>\n",
       "      <th>reviews</th>\n",
       "      <th>brand_name</th>\n",
       "      <th>weighted_review</th>\n",
       "    </tr>\n",
       "  </thead>\n",
       "  <tbody>\n",
       "    <tr>\n",
       "      <th>0</th>\n",
       "      <td>Brooks Men's Addiction Walker 2 Walking Shoe -...</td>\n",
       "      <td>129.95</td>\n",
       "      <td>4.4</td>\n",
       "      <td>2816</td>\n",
       "      <td>Brooks</td>\n",
       "      <td>12390.4</td>\n",
       "    </tr>\n",
       "    <tr>\n",
       "      <th>1</th>\n",
       "      <td>Rockport Men's Springboro Rocklake Sandal</td>\n",
       "      <td>51.89</td>\n",
       "      <td>4.6</td>\n",
       "      <td>2688</td>\n",
       "      <td>Rockport</td>\n",
       "      <td>12364.8</td>\n",
       "    </tr>\n",
       "    <tr>\n",
       "      <th>2</th>\n",
       "      <td>Clarks Women's Merliah Karli Sandal</td>\n",
       "      <td>46.99</td>\n",
       "      <td>4.3</td>\n",
       "      <td>2855</td>\n",
       "      <td>Clarks</td>\n",
       "      <td>12276.5</td>\n",
       "    </tr>\n",
       "    <tr>\n",
       "      <th>3</th>\n",
       "      <td>Hey Dude Women's Wendy Rise Peacock | Women’s ...</td>\n",
       "      <td>41.71</td>\n",
       "      <td>4.7</td>\n",
       "      <td>2595</td>\n",
       "      <td>Hey Dude</td>\n",
       "      <td>12196.5</td>\n",
       "    </tr>\n",
       "    <tr>\n",
       "      <th>4</th>\n",
       "      <td>Rockport Women's Ramona Flat Sandal</td>\n",
       "      <td>37.89</td>\n",
       "      <td>4.4</td>\n",
       "      <td>2755</td>\n",
       "      <td>Rockport</td>\n",
       "      <td>12122.0</td>\n",
       "    </tr>\n",
       "  </tbody>\n",
       "</table>\n",
       "</div>"
      ],
      "text/plain": [
       "                                           item_name   price  rating  reviews  \\\n",
       "0  Brooks Men's Addiction Walker 2 Walking Shoe -...  129.95     4.4     2816   \n",
       "1          Rockport Men's Springboro Rocklake Sandal   51.89     4.6     2688   \n",
       "2                Clarks Women's Merliah Karli Sandal   46.99     4.3     2855   \n",
       "3  Hey Dude Women's Wendy Rise Peacock | Women’s ...   41.71     4.7     2595   \n",
       "4                Rockport Women's Ramona Flat Sandal   37.89     4.4     2755   \n",
       "\n",
       "  brand_name  weighted_review  \n",
       "0     Brooks          12390.4  \n",
       "1   Rockport          12364.8  \n",
       "2     Clarks          12276.5  \n",
       "3   Hey Dude          12196.5  \n",
       "4   Rockport          12122.0  "
      ]
     },
     "execution_count": 51,
     "metadata": {},
     "output_type": "execute_result"
    }
   ],
   "source": [
    "df_analyze.head()"
   ]
  },
  {
   "cell_type": "code",
   "execution_count": 52,
   "id": "2b37b2ea-bb12-4942-a97c-c5aa82996059",
   "metadata": {},
   "outputs": [
    {
     "data": {
      "image/png": "[encoded data removed]",
      "text/plain": [
       "<Figure size 720x1080 with 1 Axes>"
      ]
     },
     "metadata": {
      "needs_background": "light"
     },
     "output_type": "display_data"
    }
   ],
   "source": [
    "plt.figure(figsize=(10,15))\n",
    "sns.barplot(x = df_analyze.brand_name.value_counts().values, y = df_analyze.brand_name.value_counts().index, color = \"blue\");\n",
    "plt.title(\"Number of shoe brands arranged in descending order\")\n",
    "plt.xlabel(\"count\")\n",
    "plt.ylabel(\"brand name\");"
   ]
  },
  {
   "cell_type": "code",
   "execution_count": 53,
   "id": "b15af637-9af8-4518-831d-0086f7c6cf0e",
   "metadata": {},
   "outputs": [
    {
     "data": {
      "image/png": "[encoded data removed]",
      "text/plain": [
       "<Figure size 720x1080 with 1 Axes>"
      ]
     },
     "metadata": {
      "needs_background": "light"
     },
     "output_type": "display_data"
    }
   ],
   "source": [
    "#Most expensive brands\n",
    "plt.figure(figsize=(10,15))\n",
    "sns.barplot(x = price_weight_ave.sort_values(by=\"price\", ascending = False).price, y = price_weight_ave.index, color = \"blue\", estimator = np.mean, order =price_weight_ave.index );\n",
    "plt.title(\"Price of brands bar chart\");"
   ]
  },
  {
   "cell_type": "code",
   "execution_count": 63,
   "id": "58a94c0f-be1c-463a-bc3d-5d8373d18691",
   "metadata": {},
   "outputs": [
    {
     "data": {
      "image/png": "[encoded data removed]",
      "text/plain": [
       "<Figure size 576x360 with 1 Axes>"
      ]
     },
     "metadata": {
      "needs_background": "light"
     },
     "output_type": "display_data"
    }
   ],
   "source": [
    "normalized = price_weight_ave.sort_values(by = \"price\", ascending = False).copy();\n",
    "normalized[\"weighted_review\"] = normalized[\"weighted_review\"]/np.max(normalized[\"weighted_review\"]);\n",
    "normalized[\"price\"] = normalized[\"price\"]/np.max(normalized[\"price\"]);\n",
    "normalized.plot(kind=\"bar\", stacked=True, figsize=(8,5));\n",
    "plt.title(\"Price weight comparison bar chart\");\n",
    "plt.savefig('p_w_compare.png')"
   ]
  },
  {
   "cell_type": "markdown",
   "id": "148b4ccd-3204-457c-aff2-0835ef1cbee1",
   "metadata": {},
   "source": [
    "> There is no clear relationship between price and the shoe rating, using the graph above we can compare how the price of a brand relates to it's popularity, therefore for example, an expensive brand which seems to be liked a lot is the brooks and conversely a cheap one that seems to be quite popular is the skechers brand."
   ]
  },
  {
   "cell_type": "code",
   "execution_count": 55,
   "id": "7dfc7561-09fd-4d4a-aed0-a947ac4c85ff",
   "metadata": {},
   "outputs": [],
   "source": [
    "#Get 5 most popular brands\n",
    "pop = list(popular.index[:5])"
   ]
  },
  {
   "cell_type": "code",
   "execution_count": 56,
   "id": "0314ec27-f65a-43f9-98c6-1ea8a1f955ff",
   "metadata": {},
   "outputs": [],
   "source": [
    "row_num = []\n",
    "for j,k in zip(df_analyze[\"brand_name\"], range(0,len(df_analyze))):\n",
    "    if j in pop:\n",
    "        row_num.append(k)"
   ]
  },
  {
   "cell_type": "code",
   "execution_count": 57,
   "id": "88542ccc-6189-4d5f-a17f-4660e9085cd1",
   "metadata": {},
   "outputs": [],
   "source": [
    "pop_tot = df_analyze.loc[row_num]"
   ]
  },
  {
   "cell_type": "code",
   "execution_count": 60,
   "id": "8e671f5b-c09f-4ffb-9e7d-ac9b3beb5792",
   "metadata": {},
   "outputs": [
    {
     "data": {
      "image/png": "[encoded data removed]",
      "text/plain": [
       "<Figure size 432x288 with 1 Axes>"
      ]
     },
     "metadata": {
      "needs_background": "light"
     },
     "output_type": "display_data"
    }
   ],
   "source": [
    "sns.scatterplot(data = pop_tot, x = \"price\", y = \"weighted_review\", hue = \"brand_name\");\n",
    "plt.title(\"average weighted review vs price\");\n",
    "plt.savefig('a_w_r_p.png');"
   ]
  },
  {
   "cell_type": "markdown",
   "id": "d20b604c-639e-4787-9c08-0a58417609bd",
   "metadata": {},
   "source": [
    "> For the five most popular shoes, Bruno Marc and Dream pairs dominate the left part of the graph showing that they are of lower price but still popular and well rated while Merrell and adidas populate the right hand side showing they are the more expensive of the top five. Skechers finds its way inbetween these groups and so is of average expense in the most popular shoes."
   ]
  },
  {
   "cell_type": "markdown",
   "id": "6c3a0c01-33a6-419c-8a66-96b2d222cf74",
   "metadata": {},
   "source": [
    "# Summary of findings"
   ]
  },
  {
   "cell_type": "markdown",
   "id": "36a5a3ad-ca90-4d08-a685-b51d84c5b3eb",
   "metadata": {},
   "source": [
    "* There are cheap and top 5 popular brands which would be quite lucrative to have in stock. some of these are Bruno Marc and Dream pairs.\n",
    "* There might be an inverse relationship between price and weighted review. Could mean that cheaper shoes do get more appreciation by consumers.\n",
    "* Using the graph titled \"Price weight comparison bar chart\" a shopowner can leverage between the funds available and the popularity of a shoe brand to make decisions on what kind of brand is trending and should be kept in stock."
   ]
  },
  {
   "cell_type": "code",
   "execution_count": null,
   "id": "f9e24e6e-03d9-40a8-b429-14f9ebdf8056",
   "metadata": {},
   "outputs": [],
   "source": []
  }
 ],
 "metadata": {
  "kernelspec": {
   "display_name": "Python 3 (ipykernel)",
   "language": "python",
   "name": "python3"
  },
  "language_info": {
   "codemirror_mode": {
    "name": "ipython",
    "version": 3
   },
   "file_extension": ".py",
   "mimetype": "text/x-python",
   "name": "python",
   "nbconvert_exporter": "python",
   "pygments_lexer": "ipython3",
   "version": "3.9.7"
  }
 },
 "nbformat": 4,
 "nbformat_minor": 5
}
